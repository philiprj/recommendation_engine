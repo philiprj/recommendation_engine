{
 "cells": [
  {
   "cell_type": "markdown",
   "metadata": {},
   "source": [
    "# Movie Recommendation Model Training"
   ]
  },
  {
   "cell_type": "code",
   "execution_count": 18,
   "metadata": {},
   "outputs": [],
   "source": [
    "import os \n",
    "from collections import defaultdict\n",
    "import logging\n",
    "import time\n",
    "import pandas as pd\n",
    "import torch\n",
    "import torch.nn as nn\n",
    "import torch.optim as optim\n",
    "from torch.utils.data import DataLoader\n",
    "from movie_dataset import MovieDataset\n",
    "# from torch.utils.data import Dataset\n"
   ]
  },
  {
   "cell_type": "markdown",
   "metadata": {},
   "source": [
    "## Load the data"
   ]
  },
  {
   "cell_type": "code",
   "execution_count": 2,
   "metadata": {},
   "outputs": [],
   "source": [
    "# Get the parent directory\n",
    "parent_dir = os.path.dirname(os.getcwd())\n",
    "# Construct the data path\n",
    "data_path = os.path.join(parent_dir, 'data')\n",
    "\n",
    "df_train = pd.read_csv(os.path.join(data_path, 'df_train.csv'))\n",
    "df_test = pd.read_csv(os.path.join(data_path, 'df_test.csv'))"
   ]
  },
  {
   "cell_type": "markdown",
   "metadata": {},
   "source": [
    "## Define the dataloader"
   ]
  },
  {
   "cell_type": "code",
   "execution_count": 3,
   "metadata": {},
   "outputs": [],
   "source": [
    "genres_cols = ['action', 'adventure', 'animation', 'children', 'comedy', 'crime', 'documentary', 'drama', 'fantasy', 'film_noir', 'horror', 'imax', 'musical', 'mystery', 'romance', 'sci_fi', 'thriller', 'war', 'western']"
   ]
  },
  {
   "cell_type": "code",
   "execution_count": 4,
   "metadata": {},
   "outputs": [],
   "source": [
    "users_train = df_train['user_id'].values\n",
    "movies_train = df_train['movie_id'].values\n",
    "genres_train = df_train[genres_cols].values\n",
    "ratings_train = df_train['label'].values\n",
    "\n",
    "# Create the MovieDataset\n",
    "train_dataset = MovieDataset(users_train, movies_train, genres_train, ratings_train)\n",
    "\n",
    "users_test = df_test['user_id'].values\n",
    "movies_test = df_test['movie_id'].values\n",
    "genres_test = df_test[genres_cols].values\n",
    "ratings_test = df_test['label'].values\n",
    "\n",
    "# Create the MovieDataset\n",
    "valid_dataset = MovieDataset(users_test, movies_test, genres_test, ratings_test)\n"
   ]
  },
  {
   "cell_type": "code",
   "execution_count": 5,
   "metadata": {},
   "outputs": [],
   "source": [
    "BATCH_SIZE = 32\n",
    "\n",
    "train_loader = DataLoader(train_dataset, batch_size=BATCH_SIZE, shuffle=True, num_workers=1)\n",
    "val_loader = DataLoader(valid_dataset, batch_size=BATCH_SIZE, shuffle=True, num_workers=1)"
   ]
  },
  {
   "cell_type": "markdown",
   "metadata": {},
   "source": [
    "## Model Definition\n",
    "\n",
    "The model embeddings learn to capture the latent (hidden) features of users and movies. For instance, in the movie space, embeddings might capture genres, while in the user space, they might capture preferences. This is essentially a form of collaborative filtering, as the model learns from user-item interactions.\n",
    "\n",
    "As the model trains, user and movie embeddings are adjusted to minimise the prediction error. This means that users who have rated movies similarly will end up having similar embeddings. The same goes for movies that have been rated similarly by users. Therefore, the embeddings are learning the collaborative filtering aspect implicitly."
   ]
  },
  {
   "cell_type": "code",
   "execution_count": 6,
   "metadata": {},
   "outputs": [],
   "source": [
    "class RecommendationSystemModel(nn.Module):\n",
    "    def __init__(\n",
    "        self,\n",
    "        num_users,\n",
    "        num_movies,\n",
    "        num_genres,\n",
    "        embedding_size=256,\n",
    "        hidden_dim=256,\n",
    "        dropout_rate=0.2,\n",
    "    ):\n",
    "        super().__init__()\n",
    "        self.num_users = num_users\n",
    "        self.num_movies = num_movies\n",
    "        self.num_genres = num_genres\n",
    "        self.embedding_size = embedding_size\n",
    "        self.hidden_dim = hidden_dim\n",
    "\n",
    "        # Embedding layers\n",
    "        self.user_embedding = nn.Embedding(\n",
    "            num_embeddings=self.num_users, embedding_dim=self.embedding_size\n",
    "        )\n",
    "        self.movie_embedding = nn.Embedding(\n",
    "            num_embeddings=self.num_movies, embedding_dim=self.embedding_size\n",
    "        )\n",
    "\n",
    "        # Hidden layers\n",
    "        self.fc1 = nn.Linear(2 * self.embedding_size + self.num_genres, self.hidden_dim)\n",
    "        self.fc2 = nn.Linear(self.hidden_dim, 1)\n",
    "\n",
    "        # Dropout layer\n",
    "        self.dropout = nn.Dropout(p=dropout_rate)\n",
    "\n",
    "        # Activation function\n",
    "        self.relu = nn.ReLU()\n",
    "\n",
    "    def forward(self, users, movies, genres):\n",
    "        # Embeddings\n",
    "        user_embedded = self.user_embedding(users)\n",
    "        movie_embedded = self.movie_embedding(movies)\n",
    "\n",
    "        # Concatenate user and movie embeddings\n",
    "        combined = torch.cat([user_embedded, movie_embedded, genres], dim=1)\n",
    "\n",
    "        # Pass through hidden layers with ReLU activation and dropout\n",
    "        x = self.relu(self.fc1(combined))\n",
    "        x = self.dropout(x)\n",
    "        output = self.fc2(x)\n",
    "\n",
    "        return output"
   ]
  },
  {
   "cell_type": "code",
   "execution_count": 7,
   "metadata": {},
   "outputs": [],
   "source": [
    "n_users = pd.concat([df_train, df_test])['user_id'].nunique()\n",
    "n_movies = pd.concat([df_train, df_test])['movie_id'].nunique()\n",
    "n_genres = len(genres_cols)"
   ]
  },
  {
   "cell_type": "code",
   "execution_count": 8,
   "metadata": {},
   "outputs": [
    {
     "name": "stdout",
     "output_type": "stream",
     "text": [
      "Using device: cpu\n"
     ]
    }
   ],
   "source": [
    "device = 'cuda' if torch.cuda.is_available() else 'cpu'\n",
    "print(f\"Using device: {device}\")"
   ]
  },
  {
   "cell_type": "code",
   "execution_count": 9,
   "metadata": {},
   "outputs": [],
   "source": [
    "recommendation_model = RecommendationSystemModel(\n",
    "    num_users=n_users,\n",
    "    num_movies=n_movies,\n",
    "    num_genres=n_genres,\n",
    "    embedding_size=128,\n",
    "    hidden_dim=256,\n",
    "    dropout_rate=0.1,\n",
    ").to(device)"
   ]
  },
  {
   "cell_type": "code",
   "execution_count": 10,
   "metadata": {},
   "outputs": [],
   "source": [
    "optimizer = torch.optim.Adam(recommendation_model.parameters(), lr=1e-3)\n",
    "loss_func = nn.MSELoss()"
   ]
  },
  {
   "cell_type": "code",
   "execution_count": 11,
   "metadata": {},
   "outputs": [],
   "source": [
    "EPOCHS = 2"
   ]
  },
  {
   "cell_type": "code",
   "execution_count": 12,
   "metadata": {},
   "outputs": [],
   "source": [
    "logging.basicConfig(level=logging.INFO)\n",
    "logger = logging.getLogger(__name__)"
   ]
  },
  {
   "cell_type": "code",
   "execution_count": 13,
   "metadata": {},
   "outputs": [],
   "source": [
    "# Function to log progress\n",
    "def log_progress(epoch, step, total_loss, log_progress_step, data_size, losses):\n",
    "    avg_loss = total_loss / log_progress_step\n",
    "    logger.info(\n",
    "        f\"Epoch: {epoch+1}/{EPOCHS} | Step: {step}/{data_size * EPOCHS} | \"\n",
    "        f\"Avg Loss: {avg_loss:.6f}\"\n",
    "    )\n",
    "\n",
    "    losses.append((step, avg_loss))"
   ]
  },
  {
   "cell_type": "code",
   "execution_count": 14,
   "metadata": {},
   "outputs": [
    {
     "name": "stdout",
     "output_type": "stream",
     "text": [
      "Training on 82141 samples...\n"
     ]
    }
   ],
   "source": [
    "total_loss = 0\n",
    "log_progress_step = 100\n",
    "log_val_step = 2000\n",
    "losses = []\n",
    "val_losses = []\n",
    "train_dataset_size = len(train_dataset)\n",
    "print(f\"Training on {train_dataset_size} samples...\")"
   ]
  },
  {
   "cell_type": "code",
   "execution_count": 15,
   "metadata": {},
   "outputs": [
    {
     "name": "stderr",
     "output_type": "stream",
     "text": [
      "INFO:__main__:Epoch: 1/2 | Step: 800/164282 | Avg Loss: 0.209286\n",
      "INFO:__main__:Epoch: 1/2 | Step: 1600/164282 | Avg Loss: 0.057196\n",
      "INFO:__main__:Epoch: 1/2 | Step: 2400/164282 | Avg Loss: 0.041748\n",
      "INFO:__main__:Epoch: 1/2 | Step: 3200/164282 | Avg Loss: 0.034916\n",
      "INFO:__main__:Epoch: 1/2 | Step: 4000/164282 | Avg Loss: 0.039694\n",
      "INFO:__main__:Epoch: 1/2 | Step: 4000/164282 | Validation Loss: 0.034749\n",
      "INFO:__main__:Epoch: 1/2 | Step: 4800/164282 | Avg Loss: 0.036398\n",
      "INFO:__main__:Epoch: 1/2 | Step: 5600/164282 | Avg Loss: 0.035511\n",
      "INFO:__main__:Epoch: 1/2 | Step: 6400/164282 | Avg Loss: 0.032293\n",
      "INFO:__main__:Epoch: 1/2 | Step: 7200/164282 | Avg Loss: 0.032718\n",
      "INFO:__main__:Epoch: 1/2 | Step: 8000/164282 | Avg Loss: 0.031174\n",
      "INFO:__main__:Epoch: 1/2 | Step: 8000/164282 | Validation Loss: 0.032079\n",
      "INFO:__main__:Epoch: 1/2 | Step: 8800/164282 | Avg Loss: 0.032484\n",
      "INFO:__main__:Epoch: 1/2 | Step: 9600/164282 | Avg Loss: 0.034770\n",
      "INFO:__main__:Epoch: 1/2 | Step: 10400/164282 | Avg Loss: 0.033827\n",
      "INFO:__main__:Epoch: 1/2 | Step: 11200/164282 | Avg Loss: 0.035429\n",
      "INFO:__main__:Epoch: 1/2 | Step: 12000/164282 | Avg Loss: 0.032170\n",
      "INFO:__main__:Epoch: 1/2 | Step: 12000/164282 | Validation Loss: 0.031224\n",
      "INFO:__main__:Epoch: 1/2 | Step: 12800/164282 | Avg Loss: 0.031779\n",
      "INFO:__main__:Epoch: 1/2 | Step: 13600/164282 | Avg Loss: 0.028112\n",
      "INFO:__main__:Epoch: 1/2 | Step: 14400/164282 | Avg Loss: 0.030223\n",
      "INFO:__main__:Epoch: 1/2 | Step: 15200/164282 | Avg Loss: 0.032297\n",
      "INFO:__main__:Epoch: 1/2 | Step: 16000/164282 | Avg Loss: 0.031255\n",
      "INFO:__main__:Epoch: 1/2 | Step: 16000/164282 | Validation Loss: 0.030458\n",
      "INFO:__main__:Epoch: 1/2 | Step: 16800/164282 | Avg Loss: 0.030627\n",
      "INFO:__main__:Epoch: 1/2 | Step: 17600/164282 | Avg Loss: 0.030407\n",
      "INFO:__main__:Epoch: 1/2 | Step: 18400/164282 | Avg Loss: 0.030263\n",
      "INFO:__main__:Epoch: 1/2 | Step: 19200/164282 | Avg Loss: 0.031140\n",
      "INFO:__main__:Epoch: 1/2 | Step: 20000/164282 | Avg Loss: 0.033798\n",
      "INFO:__main__:Epoch: 1/2 | Step: 20000/164282 | Validation Loss: 0.030511\n",
      "INFO:__main__:Epoch: 1/2 | Step: 20800/164282 | Avg Loss: 0.030332\n",
      "INFO:__main__:Epoch: 1/2 | Step: 21600/164282 | Avg Loss: 0.029422\n",
      "INFO:__main__:Epoch: 1/2 | Step: 22400/164282 | Avg Loss: 0.030457\n",
      "INFO:__main__:Epoch: 1/2 | Step: 23200/164282 | Avg Loss: 0.030260\n",
      "INFO:__main__:Epoch: 1/2 | Step: 24000/164282 | Avg Loss: 0.027061\n",
      "INFO:__main__:Epoch: 1/2 | Step: 24000/164282 | Validation Loss: 0.029078\n",
      "INFO:__main__:Epoch: 1/2 | Step: 24800/164282 | Avg Loss: 0.031027\n",
      "INFO:__main__:Epoch: 1/2 | Step: 25600/164282 | Avg Loss: 0.029002\n",
      "INFO:__main__:Epoch: 1/2 | Step: 26400/164282 | Avg Loss: 0.032332\n",
      "INFO:__main__:Epoch: 1/2 | Step: 27200/164282 | Avg Loss: 0.029790\n",
      "INFO:__main__:Epoch: 1/2 | Step: 28000/164282 | Avg Loss: 0.029457\n",
      "INFO:__main__:Epoch: 1/2 | Step: 28000/164282 | Validation Loss: 0.029524\n",
      "INFO:__main__:Epoch: 1/2 | Step: 28800/164282 | Avg Loss: 0.029743\n",
      "INFO:__main__:Epoch: 1/2 | Step: 29600/164282 | Avg Loss: 0.030477\n",
      "INFO:__main__:Epoch: 1/2 | Step: 30400/164282 | Avg Loss: 0.028602\n",
      "INFO:__main__:Epoch: 1/2 | Step: 31200/164282 | Avg Loss: 0.027828\n",
      "INFO:__main__:Epoch: 1/2 | Step: 32000/164282 | Avg Loss: 0.028243\n",
      "INFO:__main__:Epoch: 1/2 | Step: 32000/164282 | Validation Loss: 0.028454\n",
      "INFO:__main__:Epoch: 1/2 | Step: 32800/164282 | Avg Loss: 0.029027\n",
      "INFO:__main__:Epoch: 1/2 | Step: 33600/164282 | Avg Loss: 0.030210\n",
      "INFO:__main__:Epoch: 1/2 | Step: 34400/164282 | Avg Loss: 0.027737\n",
      "INFO:__main__:Epoch: 1/2 | Step: 35200/164282 | Avg Loss: 0.031229\n",
      "INFO:__main__:Epoch: 1/2 | Step: 36000/164282 | Avg Loss: 0.029453\n",
      "INFO:__main__:Epoch: 1/2 | Step: 36000/164282 | Validation Loss: 0.028247\n",
      "INFO:__main__:Epoch: 1/2 | Step: 36800/164282 | Avg Loss: 0.028522\n",
      "INFO:__main__:Epoch: 1/2 | Step: 37600/164282 | Avg Loss: 0.028195\n",
      "INFO:__main__:Epoch: 1/2 | Step: 38400/164282 | Avg Loss: 0.029993\n",
      "INFO:__main__:Epoch: 1/2 | Step: 39200/164282 | Avg Loss: 0.028257\n",
      "INFO:__main__:Epoch: 1/2 | Step: 40000/164282 | Avg Loss: 0.027046\n",
      "INFO:__main__:Epoch: 1/2 | Step: 40000/164282 | Validation Loss: 0.028045\n",
      "INFO:__main__:Epoch: 1/2 | Step: 40800/164282 | Avg Loss: 0.026969\n",
      "INFO:__main__:Epoch: 1/2 | Step: 41600/164282 | Avg Loss: 0.028680\n",
      "INFO:__main__:Epoch: 1/2 | Step: 42400/164282 | Avg Loss: 0.029025\n",
      "INFO:__main__:Epoch: 1/2 | Step: 43200/164282 | Avg Loss: 0.030472\n",
      "INFO:__main__:Epoch: 1/2 | Step: 44000/164282 | Avg Loss: 0.030704\n",
      "INFO:__main__:Epoch: 1/2 | Step: 44000/164282 | Validation Loss: 0.027816\n",
      "INFO:__main__:Epoch: 1/2 | Step: 44800/164282 | Avg Loss: 0.026159\n",
      "INFO:__main__:Epoch: 1/2 | Step: 45600/164282 | Avg Loss: 0.029225\n",
      "INFO:__main__:Epoch: 1/2 | Step: 46400/164282 | Avg Loss: 0.028998\n",
      "INFO:__main__:Epoch: 1/2 | Step: 47200/164282 | Avg Loss: 0.028450\n",
      "INFO:__main__:Epoch: 1/2 | Step: 48000/164282 | Avg Loss: 0.029342\n",
      "INFO:__main__:Epoch: 1/2 | Step: 48000/164282 | Validation Loss: 0.027516\n",
      "INFO:__main__:Epoch: 1/2 | Step: 48800/164282 | Avg Loss: 0.028918\n",
      "INFO:__main__:Epoch: 1/2 | Step: 49600/164282 | Avg Loss: 0.028446\n",
      "INFO:__main__:Epoch: 1/2 | Step: 50400/164282 | Avg Loss: 0.027812\n",
      "INFO:__main__:Epoch: 1/2 | Step: 51200/164282 | Avg Loss: 0.027855\n",
      "INFO:__main__:Epoch: 1/2 | Step: 52000/164282 | Avg Loss: 0.028801\n",
      "INFO:__main__:Epoch: 1/2 | Step: 52000/164282 | Validation Loss: 0.027382\n",
      "INFO:__main__:Epoch: 1/2 | Step: 52800/164282 | Avg Loss: 0.028460\n",
      "INFO:__main__:Epoch: 1/2 | Step: 53600/164282 | Avg Loss: 0.028449\n",
      "INFO:__main__:Epoch: 1/2 | Step: 54400/164282 | Avg Loss: 0.028993\n",
      "INFO:__main__:Epoch: 1/2 | Step: 55200/164282 | Avg Loss: 0.027847\n",
      "INFO:__main__:Epoch: 1/2 | Step: 56000/164282 | Avg Loss: 0.028414\n",
      "INFO:__main__:Epoch: 1/2 | Step: 56000/164282 | Validation Loss: 0.027779\n",
      "INFO:__main__:Epoch: 1/2 | Step: 56800/164282 | Avg Loss: 0.028049\n",
      "INFO:__main__:Epoch: 1/2 | Step: 57600/164282 | Avg Loss: 0.028005\n",
      "INFO:__main__:Epoch: 1/2 | Step: 58400/164282 | Avg Loss: 0.027943\n",
      "INFO:__main__:Epoch: 1/2 | Step: 59200/164282 | Avg Loss: 0.026357\n",
      "INFO:__main__:Epoch: 1/2 | Step: 60000/164282 | Avg Loss: 0.029243\n",
      "INFO:__main__:Epoch: 1/2 | Step: 60000/164282 | Validation Loss: 0.027325\n",
      "INFO:__main__:Epoch: 1/2 | Step: 60800/164282 | Avg Loss: 0.027801\n",
      "INFO:__main__:Epoch: 1/2 | Step: 61600/164282 | Avg Loss: 0.029791\n",
      "INFO:__main__:Epoch: 1/2 | Step: 62400/164282 | Avg Loss: 0.028532\n",
      "INFO:__main__:Epoch: 1/2 | Step: 63200/164282 | Avg Loss: 0.027315\n",
      "INFO:__main__:Epoch: 1/2 | Step: 64000/164282 | Avg Loss: 0.026858\n",
      "INFO:__main__:Epoch: 1/2 | Step: 64000/164282 | Validation Loss: 0.027392\n",
      "INFO:__main__:Epoch: 1/2 | Step: 64800/164282 | Avg Loss: 0.027237\n",
      "INFO:__main__:Epoch: 1/2 | Step: 65600/164282 | Avg Loss: 0.029088\n",
      "INFO:__main__:Epoch: 1/2 | Step: 66400/164282 | Avg Loss: 0.029318\n",
      "INFO:__main__:Epoch: 1/2 | Step: 67200/164282 | Avg Loss: 0.028344\n",
      "INFO:__main__:Epoch: 1/2 | Step: 68000/164282 | Avg Loss: 0.030586\n",
      "INFO:__main__:Epoch: 1/2 | Step: 68000/164282 | Validation Loss: 0.027420\n",
      "INFO:__main__:Epoch: 1/2 | Step: 68800/164282 | Avg Loss: 0.026852\n",
      "INFO:__main__:Epoch: 1/2 | Step: 69600/164282 | Avg Loss: 0.027462\n",
      "INFO:__main__:Epoch: 1/2 | Step: 70400/164282 | Avg Loss: 0.027119\n",
      "INFO:__main__:Epoch: 1/2 | Step: 71200/164282 | Avg Loss: 0.028192\n",
      "INFO:__main__:Epoch: 1/2 | Step: 72000/164282 | Avg Loss: 0.027891\n",
      "INFO:__main__:Epoch: 1/2 | Step: 72000/164282 | Validation Loss: 0.026792\n",
      "INFO:__main__:Epoch: 1/2 | Step: 72800/164282 | Avg Loss: 0.026184\n",
      "INFO:__main__:Epoch: 1/2 | Step: 73600/164282 | Avg Loss: 0.024080\n",
      "INFO:__main__:Epoch: 1/2 | Step: 74400/164282 | Avg Loss: 0.025455\n",
      "INFO:__main__:Epoch: 1/2 | Step: 75200/164282 | Avg Loss: 0.026059\n",
      "INFO:__main__:Epoch: 1/2 | Step: 76000/164282 | Avg Loss: 0.029679\n",
      "INFO:__main__:Epoch: 1/2 | Step: 76000/164282 | Validation Loss: 0.026957\n",
      "INFO:__main__:Epoch: 1/2 | Step: 76800/164282 | Avg Loss: 0.027179\n",
      "INFO:__main__:Epoch: 1/2 | Step: 77600/164282 | Avg Loss: 0.028404\n",
      "INFO:__main__:Epoch: 1/2 | Step: 78400/164282 | Avg Loss: 0.027136\n",
      "INFO:__main__:Epoch: 1/2 | Step: 79200/164282 | Avg Loss: 0.027340\n",
      "INFO:__main__:Epoch: 1/2 | Step: 80000/164282 | Avg Loss: 0.027417\n",
      "INFO:__main__:Epoch: 1/2 | Step: 80000/164282 | Validation Loss: 0.026866\n",
      "INFO:__main__:Epoch: 1/2 | Step: 80800/164282 | Avg Loss: 0.025353\n",
      "INFO:__main__:Epoch: 1/2 | Step: 81600/164282 | Avg Loss: 0.026732\n",
      "INFO:__main__:Epoch: 1/2 | Step: 82141/164282 | Avg Loss: 0.030192\n",
      "INFO:__main__:Epoch: 1/2 | Step: 82141/164282 | Validation Loss: 0.027222\n",
      "INFO:__main__:Epoch: 2/2 | Step: 82941/164282 | Avg Loss: 0.022336\n",
      "INFO:__main__:Epoch: 2/2 | Step: 83741/164282 | Avg Loss: 0.025020\n",
      "INFO:__main__:Epoch: 2/2 | Step: 84541/164282 | Avg Loss: 0.026546\n",
      "INFO:__main__:Epoch: 2/2 | Step: 85341/164282 | Avg Loss: 0.023142\n",
      "INFO:__main__:Epoch: 2/2 | Step: 86141/164282 | Avg Loss: 0.024673\n",
      "INFO:__main__:Epoch: 2/2 | Step: 86941/164282 | Avg Loss: 0.025017\n",
      "INFO:__main__:Epoch: 2/2 | Step: 87741/164282 | Avg Loss: 0.027360\n",
      "INFO:__main__:Epoch: 2/2 | Step: 88541/164282 | Avg Loss: 0.023037\n",
      "INFO:__main__:Epoch: 2/2 | Step: 89341/164282 | Avg Loss: 0.024675\n",
      "INFO:__main__:Epoch: 2/2 | Step: 90141/164282 | Avg Loss: 0.028220\n",
      "INFO:__main__:Epoch: 2/2 | Step: 90941/164282 | Avg Loss: 0.024692\n",
      "INFO:__main__:Epoch: 2/2 | Step: 91741/164282 | Avg Loss: 0.022781\n",
      "INFO:__main__:Epoch: 2/2 | Step: 92541/164282 | Avg Loss: 0.024079\n",
      "INFO:__main__:Epoch: 2/2 | Step: 93341/164282 | Avg Loss: 0.022702\n",
      "INFO:__main__:Epoch: 2/2 | Step: 94141/164282 | Avg Loss: 0.024822\n",
      "INFO:__main__:Epoch: 2/2 | Step: 94941/164282 | Avg Loss: 0.022644\n",
      "INFO:__main__:Epoch: 2/2 | Step: 95741/164282 | Avg Loss: 0.023346\n",
      "INFO:__main__:Epoch: 2/2 | Step: 96541/164282 | Avg Loss: 0.023894\n",
      "INFO:__main__:Epoch: 2/2 | Step: 97341/164282 | Avg Loss: 0.023440\n",
      "INFO:__main__:Epoch: 2/2 | Step: 98141/164282 | Avg Loss: 0.022562\n",
      "INFO:__main__:Epoch: 2/2 | Step: 98941/164282 | Avg Loss: 0.023506\n",
      "INFO:__main__:Epoch: 2/2 | Step: 99741/164282 | Avg Loss: 0.024746\n",
      "INFO:__main__:Epoch: 2/2 | Step: 100541/164282 | Avg Loss: 0.024952\n",
      "INFO:__main__:Epoch: 2/2 | Step: 101341/164282 | Avg Loss: 0.024855\n",
      "INFO:__main__:Epoch: 2/2 | Step: 102141/164282 | Avg Loss: 0.024416\n",
      "INFO:__main__:Epoch: 2/2 | Step: 102941/164282 | Avg Loss: 0.020628\n",
      "INFO:__main__:Epoch: 2/2 | Step: 103741/164282 | Avg Loss: 0.022982\n",
      "INFO:__main__:Epoch: 2/2 | Step: 104541/164282 | Avg Loss: 0.024781\n",
      "INFO:__main__:Epoch: 2/2 | Step: 105341/164282 | Avg Loss: 0.024268\n",
      "INFO:__main__:Epoch: 2/2 | Step: 106141/164282 | Avg Loss: 0.026302\n",
      "INFO:__main__:Epoch: 2/2 | Step: 106941/164282 | Avg Loss: 0.028228\n",
      "INFO:__main__:Epoch: 2/2 | Step: 107741/164282 | Avg Loss: 0.024718\n",
      "INFO:__main__:Epoch: 2/2 | Step: 108541/164282 | Avg Loss: 0.028544\n",
      "INFO:__main__:Epoch: 2/2 | Step: 109341/164282 | Avg Loss: 0.022697\n",
      "INFO:__main__:Epoch: 2/2 | Step: 110141/164282 | Avg Loss: 0.025671\n",
      "INFO:__main__:Epoch: 2/2 | Step: 110941/164282 | Avg Loss: 0.022811\n",
      "INFO:__main__:Epoch: 2/2 | Step: 111741/164282 | Avg Loss: 0.027349\n",
      "INFO:__main__:Epoch: 2/2 | Step: 112541/164282 | Avg Loss: 0.025909\n",
      "INFO:__main__:Epoch: 2/2 | Step: 113341/164282 | Avg Loss: 0.025512\n",
      "INFO:__main__:Epoch: 2/2 | Step: 114141/164282 | Avg Loss: 0.022618\n",
      "INFO:__main__:Epoch: 2/2 | Step: 114941/164282 | Avg Loss: 0.022395\n",
      "INFO:__main__:Epoch: 2/2 | Step: 115741/164282 | Avg Loss: 0.025276\n",
      "INFO:__main__:Epoch: 2/2 | Step: 116541/164282 | Avg Loss: 0.022720\n",
      "INFO:__main__:Epoch: 2/2 | Step: 117341/164282 | Avg Loss: 0.025996\n",
      "INFO:__main__:Epoch: 2/2 | Step: 118141/164282 | Avg Loss: 0.027754\n",
      "INFO:__main__:Epoch: 2/2 | Step: 118941/164282 | Avg Loss: 0.024350\n",
      "INFO:__main__:Epoch: 2/2 | Step: 119741/164282 | Avg Loss: 0.024769\n",
      "INFO:__main__:Epoch: 2/2 | Step: 120541/164282 | Avg Loss: 0.022877\n",
      "INFO:__main__:Epoch: 2/2 | Step: 121341/164282 | Avg Loss: 0.026561\n",
      "INFO:__main__:Epoch: 2/2 | Step: 122141/164282 | Avg Loss: 0.025938\n",
      "INFO:__main__:Epoch: 2/2 | Step: 122941/164282 | Avg Loss: 0.026304\n",
      "INFO:__main__:Epoch: 2/2 | Step: 123741/164282 | Avg Loss: 0.023087\n",
      "INFO:__main__:Epoch: 2/2 | Step: 124541/164282 | Avg Loss: 0.026814\n",
      "INFO:__main__:Epoch: 2/2 | Step: 125341/164282 | Avg Loss: 0.026277\n",
      "INFO:__main__:Epoch: 2/2 | Step: 126141/164282 | Avg Loss: 0.026038\n",
      "INFO:__main__:Epoch: 2/2 | Step: 126941/164282 | Avg Loss: 0.024569\n",
      "INFO:__main__:Epoch: 2/2 | Step: 127741/164282 | Avg Loss: 0.024954\n",
      "INFO:__main__:Epoch: 2/2 | Step: 128541/164282 | Avg Loss: 0.024789\n",
      "INFO:__main__:Epoch: 2/2 | Step: 129341/164282 | Avg Loss: 0.023106\n",
      "INFO:__main__:Epoch: 2/2 | Step: 130141/164282 | Avg Loss: 0.025864\n",
      "INFO:__main__:Epoch: 2/2 | Step: 130941/164282 | Avg Loss: 0.025440\n",
      "INFO:__main__:Epoch: 2/2 | Step: 131741/164282 | Avg Loss: 0.024209\n",
      "INFO:__main__:Epoch: 2/2 | Step: 132541/164282 | Avg Loss: 0.025059\n",
      "INFO:__main__:Epoch: 2/2 | Step: 133341/164282 | Avg Loss: 0.024671\n",
      "INFO:__main__:Epoch: 2/2 | Step: 134141/164282 | Avg Loss: 0.025672\n",
      "INFO:__main__:Epoch: 2/2 | Step: 134941/164282 | Avg Loss: 0.022983\n",
      "INFO:__main__:Epoch: 2/2 | Step: 135741/164282 | Avg Loss: 0.025929\n",
      "INFO:__main__:Epoch: 2/2 | Step: 136541/164282 | Avg Loss: 0.026616\n",
      "INFO:__main__:Epoch: 2/2 | Step: 137341/164282 | Avg Loss: 0.025515\n",
      "INFO:__main__:Epoch: 2/2 | Step: 138141/164282 | Avg Loss: 0.025880\n",
      "INFO:__main__:Epoch: 2/2 | Step: 138941/164282 | Avg Loss: 0.025766\n",
      "INFO:__main__:Epoch: 2/2 | Step: 139741/164282 | Avg Loss: 0.024050\n",
      "INFO:__main__:Epoch: 2/2 | Step: 140541/164282 | Avg Loss: 0.024293\n",
      "INFO:__main__:Epoch: 2/2 | Step: 141341/164282 | Avg Loss: 0.023843\n",
      "INFO:__main__:Epoch: 2/2 | Step: 142141/164282 | Avg Loss: 0.024264\n",
      "INFO:__main__:Epoch: 2/2 | Step: 142941/164282 | Avg Loss: 0.024993\n",
      "INFO:__main__:Epoch: 2/2 | Step: 143741/164282 | Avg Loss: 0.025480\n",
      "INFO:__main__:Epoch: 2/2 | Step: 144541/164282 | Avg Loss: 0.025359\n",
      "INFO:__main__:Epoch: 2/2 | Step: 145341/164282 | Avg Loss: 0.023557\n",
      "INFO:__main__:Epoch: 2/2 | Step: 146141/164282 | Avg Loss: 0.024106\n",
      "INFO:__main__:Epoch: 2/2 | Step: 146941/164282 | Avg Loss: 0.024263\n",
      "INFO:__main__:Epoch: 2/2 | Step: 147741/164282 | Avg Loss: 0.022636\n",
      "INFO:__main__:Epoch: 2/2 | Step: 148541/164282 | Avg Loss: 0.025217\n",
      "INFO:__main__:Epoch: 2/2 | Step: 149341/164282 | Avg Loss: 0.025091\n",
      "INFO:__main__:Epoch: 2/2 | Step: 150141/164282 | Avg Loss: 0.025669\n",
      "INFO:__main__:Epoch: 2/2 | Step: 150941/164282 | Avg Loss: 0.024060\n",
      "INFO:__main__:Epoch: 2/2 | Step: 151741/164282 | Avg Loss: 0.025746\n",
      "INFO:__main__:Epoch: 2/2 | Step: 152541/164282 | Avg Loss: 0.026465\n",
      "INFO:__main__:Epoch: 2/2 | Step: 153341/164282 | Avg Loss: 0.024044\n",
      "INFO:__main__:Epoch: 2/2 | Step: 154141/164282 | Avg Loss: 0.025368\n",
      "INFO:__main__:Epoch: 2/2 | Step: 154941/164282 | Avg Loss: 0.025228\n",
      "INFO:__main__:Epoch: 2/2 | Step: 155741/164282 | Avg Loss: 0.024286\n",
      "INFO:__main__:Epoch: 2/2 | Step: 156541/164282 | Avg Loss: 0.025188\n",
      "INFO:__main__:Epoch: 2/2 | Step: 157341/164282 | Avg Loss: 0.024112\n",
      "INFO:__main__:Epoch: 2/2 | Step: 158141/164282 | Avg Loss: 0.025987\n",
      "INFO:__main__:Epoch: 2/2 | Step: 158941/164282 | Avg Loss: 0.025426\n",
      "INFO:__main__:Epoch: 2/2 | Step: 159741/164282 | Avg Loss: 0.025216\n",
      "INFO:__main__:Epoch: 2/2 | Step: 160541/164282 | Avg Loss: 0.023140\n",
      "INFO:__main__:Epoch: 2/2 | Step: 161341/164282 | Avg Loss: 0.024770\n",
      "INFO:__main__:Epoch: 2/2 | Step: 162141/164282 | Avg Loss: 0.024168\n",
      "INFO:__main__:Epoch: 2/2 | Step: 162941/164282 | Avg Loss: 0.024588\n",
      "INFO:__main__:Epoch: 2/2 | Step: 163741/164282 | Avg Loss: 0.023638\n",
      "INFO:__main__:Epoch: 2/2 | Step: 164282/164282 | Avg Loss: 0.027738\n",
      "INFO:__main__:Epoch: 2/2 | Step: 164282/164282 | Validation Loss: 0.026147\n"
     ]
    }
   ],
   "source": [
    "recommendation_model.train()\n",
    "start_time = time.time()\n",
    "step_count = 0\n",
    "log_step = 0\n",
    "val_step = 0\n",
    "for e in range(EPOCHS):\n",
    "    for i, train_data in enumerate(train_loader):\n",
    "        output = recommendation_model(\n",
    "            train_data[\"users\"].to(device), train_data[\"movies\"].to(device), train_data[\"genres\"].to(device)\n",
    "        )\n",
    "        # Reshape the model output to match the target's shape\n",
    "        output = output.squeeze()  # Removes the singleton dimension\n",
    "        ratings = (\n",
    "            train_data[\"ratings\"].to(torch.float32).to(device)\n",
    "        )  # Assuming ratings is already 1D\n",
    "\n",
    "        loss = loss_func(output, ratings)\n",
    "        total_loss += loss.sum().item()\n",
    "        optimizer.zero_grad()\n",
    "        loss.backward()\n",
    "        optimizer.step()\n",
    "\n",
    "        # Increment step count by the actual size of the batch\n",
    "        step_count += len(train_data[\"users\"])\n",
    "        log_step += len(train_data[\"users\"])\n",
    "        val_step += len(train_data[\"users\"])\n",
    "\n",
    "        # Check if it's time to log progress\n",
    "        if (\n",
    "            log_step % log_progress_step == 0 or i == len(train_loader) - 1\n",
    "        ):  # Log at the end of each epoch\n",
    "            log_progress(\n",
    "                e, step_count, total_loss, log_step, train_dataset_size, losses\n",
    "            )\n",
    "            log_step = 0\n",
    "            total_loss = 0\n",
    "\n",
    "        if (\n",
    "            val_step % log_val_step == 0 or i == len(train_loader) - 1\n",
    "        ):  # Log at the end of each epoch\n",
    "            # Evaluate on validation dataset\n",
    "            recommendation_model.eval()  # Set the model to evaluation mode\n",
    "            val_loss = 0\n",
    "            with torch.no_grad():  # Disable gradient calculation\n",
    "                for val_data in val_loader:\n",
    "                    val_output = recommendation_model(\n",
    "                        val_data[\"users\"].to(device), val_data[\"movies\"].to(device), val_data[\"genres\"].to(device)\n",
    "                    )\n",
    "                    val_output = val_output.squeeze()\n",
    "                    val_ratings = val_data[\"ratings\"].to(torch.float32).to(device)\n",
    "                    val_loss += loss_func(val_output, val_ratings).sum().item()\n",
    "\n",
    "            avg_val_loss = val_loss / len(valid_dataset)\n",
    "            val_losses.append((step_count, avg_val_loss))\n",
    "            logger.info(f\"Epoch: {e+1}/{EPOCHS} | Step: {step_count}/{train_dataset_size * EPOCHS} | Validation Loss: {avg_val_loss:.6f}\")\n",
    "\n",
    "        recommendation_model.train()"
   ]
  },
  {
   "cell_type": "code",
   "execution_count": 16,
   "metadata": {},
   "outputs": [
    {
     "data": {
      "image/png": "[encoded data removed]",
      "text/plain": [
       "<Figure size 1000x500 with 1 Axes>"
      ]
     },
     "metadata": {},
     "output_type": "display_data"
    }
   ],
   "source": [
    "import matplotlib.pyplot as plt\n",
    "\n",
    "# After the training loop\n",
    "plt.figure(figsize=(10, 5))\n",
    "# Unpack the step and loss values for plotting\n",
    "train_steps, train_loss_values = zip(*losses)\n",
    "val_steps, val_loss_values = zip(*val_losses)\n",
    "\n",
    "plt.plot(train_steps, train_loss_values, label='Training Loss')\n",
    "plt.plot(val_steps, val_loss_values, label='Validation Loss')\n",
    "\n",
    "plt.xlabel('Log Progress Step')\n",
    "plt.ylabel('Loss')\n",
    "plt.title('Training and Validation Loss Curve')\n",
    "plt.legend()\n",
    "plt.grid(True)\n",
    "plt.show()"
   ]
  },
  {
   "cell_type": "markdown",
   "metadata": {},
   "source": [
    "## Model Evaluation\n",
    "\n",
    "### Precision and Recall\n",
    "\n",
    "Precision and recall are metrics used to evaluate the relevance of the recommendations. In the context of recommender systems, precision measures the proportion of recommended items in the top-k set that are relevant, while recall measures the proportion of relevant items found in the top-k recommendations. Here’s how these are calculated:"
   ]
  },
  {
   "cell_type": "code",
   "execution_count": 19,
   "metadata": {},
   "outputs": [],
   "source": [
    "def calculate_precision_recall(user_ratings, k, threshold):\n",
    "    user_ratings.sort(key=lambda x: x[0], reverse=True)\n",
    "    n_rel = sum(true_r >= threshold for _, true_r in user_ratings)\n",
    "    n_rec_k = sum(est >= threshold for est, _ in user_ratings[:k])\n",
    "    n_rel_and_rec_k = sum((true_r >= threshold) and (est >= threshold) for est, true_r in user_ratings[:k])\n",
    "\n",
    "    precision = n_rel_and_rec_k / n_rec_k if n_rec_k != 0 else 1\n",
    "    recall = n_rel_and_rec_k / n_rel if n_rel != 0 else 1\n",
    "    return precision, recall"
   ]
  },
  {
   "cell_type": "code",
   "execution_count": 21,
   "metadata": {},
   "outputs": [],
   "source": [
    "user_ratings_comparison = defaultdict(list)\n",
    "\n",
    "with torch.no_grad():\n",
    "    for valid_data in val_loader:\n",
    "        users = valid_data[\"users\"].to(device)\n",
    "        movies = valid_data[\"movies\"].to(device)\n",
    "        genres = valid_data[\"genres\"].to(device)\n",
    "        ratings = valid_data[\"ratings\"].to(device)\n",
    "        output = recommendation_model(users, movies, genres)\n",
    "\n",
    "        for user, pred, true in zip(users, output, ratings):\n",
    "            user_ratings_comparison[user.item()].append((pred[0].item(), true.item()))"
   ]
  },
  {
   "cell_type": "code",
   "execution_count": 25,
   "metadata": {},
   "outputs": [
    {
     "name": "stdout",
     "output_type": "stream",
     "text": [
      "precision @ 25: 0.8984\n",
      "recall @ 25: 0.7182\n"
     ]
    }
   ],
   "source": [
    "user_precisions = dict()\n",
    "user_based_recalls = dict()\n",
    "\n",
    "k = 25\n",
    "threshold = 3\n",
    "\n",
    "for user_id, user_ratings in user_ratings_comparison.items():\n",
    "    precision, recall = calculate_precision_recall(user_ratings, k, threshold)\n",
    "    user_precisions[user_id] = precision\n",
    "    user_based_recalls[user_id] = recall\n",
    "\n",
    "\n",
    "average_precision = sum(prec for prec in user_precisions.values()) / len(user_precisions)\n",
    "average_recall = sum(rec for rec in user_based_recalls.values()) / len(user_based_recalls)\n",
    "\n",
    "print(f\"precision @ {k}: {average_precision:.4f}\")\n",
    "print(f\"recall @ {k}: {average_recall:.4f}\")"
   ]
  },
  {
   "cell_type": "markdown",
   "metadata": {},
   "source": [
    "### Predicting Top Movies a User Hasn’t Seen\n",
    "\n",
    "We can now predict a user's top movies that they haven't seen yet. This process involves analyzing their viewing history and preferences."
   ]
  },
  {
   "cell_type": "code",
   "execution_count": 29,
   "metadata": {},
   "outputs": [],
   "source": [
    "df_movies = pd.read_csv(os.path.join(data_path, 'all_movies_data.csv'))"
   ]
  },
  {
   "cell_type": "code",
   "execution_count": 45,
   "metadata": {},
   "outputs": [],
   "source": [
    "# Create a dictionary mapping movie_id to a list of genre values\n",
    "movie_genres_dict = df_movies.groupby('movie_id')[genres_cols].apply(lambda x: x.iloc[0].tolist()).to_dict()"
   ]
  },
  {
   "cell_type": "code",
   "execution_count": 51,
   "metadata": {},
   "outputs": [],
   "source": [
    "def recommend_top_movies(\n",
    "        model: nn.Module,\n",
    "        user_id: int,\n",
    "        all_movies: list,\n",
    "        seen_movies: set,\n",
    "        movie_genres: dict,\n",
    "        device: str,\n",
    "        k: int = 10,\n",
    "        batch_size: int = 64) -> list:\n",
    "    \"\"\"\n",
    "    Recommend top movies for a user that they haven't seen yet.\n",
    "\n",
    "    Args:\n",
    "        model (nn.Module): The trained recommendation model.\n",
    "        user_id (int): The ID of the user for whom to recommend movies.\n",
    "        all_movies (list): List of all movie IDs.\n",
    "        seen_movies (set): Set of movie IDs that the user has already seen.\n",
    "        movie_genres (dict): Dictionary mapping movie IDs to their genre vectors.\n",
    "        device (str): The device to run the model on ('cpu' or 'cuda').\n",
    "        k (int, optional): Number of top recommendations to return. Defaults to 5.\n",
    "        batch_size (int, optional): Batch size for processing. Defaults to 100.\n",
    "\n",
    "    Returns:\n",
    "        list: List of recommended movie IDs.\n",
    "    \"\"\"\n",
    "    model.eval()\n",
    "    unseen_movies = [m for m in all_movies if m not in seen_movies]\n",
    "    predictions = []\n",
    "\n",
    "    if not unseen_movies:\n",
    "        return []\n",
    "\n",
    "    with torch.no_grad():\n",
    "        for i in range(0, len(unseen_movies), batch_size):\n",
    "            batch_unseen_movies = unseen_movies[i:i+batch_size]\n",
    "            user_tensor = torch.tensor([user_id] * len(batch_unseen_movies)).to(device)\n",
    "            movie_tensor = torch.tensor(batch_unseen_movies).to(device)\n",
    "            genres_tensor = torch.tensor([movie_genres[movie_id] for movie_id in batch_unseen_movies]).to(device)\n",
    "            predicted_ratings = model(user_tensor, movie_tensor, genres_tensor).view(-1).tolist()\n",
    "            predictions.extend(zip(batch_unseen_movies, predicted_ratings))\n",
    "\n",
    "    predictions.sort(key=lambda x: x[1], reverse=True)\n",
    "    top_k_movies = [movie_id for movie_id, _ in predictions[:k]]\n",
    "    return top_k_movies"
   ]
  },
  {
   "cell_type": "code",
   "execution_count": 52,
   "metadata": {},
   "outputs": [],
   "source": [
    "# Prepare all_movies and seen_movies\n",
    "all_movies = df_movies['movie_id'].unique().tolist()\n",
    "user_id = 1 # A random userId\n",
    "seen_movies = set(df_movies[df_movies['user_id'] == user_id]['movie_id'].tolist())"
   ]
  },
  {
   "cell_type": "code",
   "execution_count": 53,
   "metadata": {},
   "outputs": [],
   "source": [
    "# Get recommendations\n",
    "recommendations = recommend_top_movies(\n",
    "    recommendation_model, user_id, all_movies, seen_movies, movie_genres_dict, device\n",
    ")"
   ]
  },
  {
   "cell_type": "code",
   "execution_count": 59,
   "metadata": {},
   "outputs": [],
   "source": [
    "recommended_movies = df_movies[df_movies['movie_id'].isin(recommendations)]['title'].unique().tolist()"
   ]
  },
  {
   "cell_type": "code",
   "execution_count": 71,
   "metadata": {},
   "outputs": [],
   "source": [
    "user_top_ten_seen_movies = df_movies[df_movies['user_id'] == user_id].sort_values(by=\"label\", ascending=False)['title'].unique().tolist()[:5]"
   ]
  },
  {
   "cell_type": "code",
   "execution_count": 72,
   "metadata": {},
   "outputs": [
    {
     "data": {
      "text/plain": [
       "['Inside Job (2010)',\n",
       " 'Step Brothers (2008)',\n",
       " 'Wolf of Wall Street, The (2013)',\n",
       " 'Mad Max: Fury Road (2015)',\n",
       " 'Warrior (2011)']"
      ]
     },
     "execution_count": 72,
     "metadata": {},
     "output_type": "execute_result"
    }
   ],
   "source": [
    "user_top_ten_seen_movies"
   ]
  },
  {
   "cell_type": "code",
   "execution_count": 76,
   "metadata": {},
   "outputs": [
    {
     "name": "stdout",
     "output_type": "stream",
     "text": [
      "User 1 has seen 29 movies\n",
      "Based on the top rated movies seen by the user:\n",
      "\n",
      "Inside Job (2010)\n",
      "Step Brothers (2008)\n",
      "Wolf of Wall Street, The (2013)\n",
      "Mad Max: Fury Road (2015)\n",
      "Warrior (2011)\n",
      "\n",
      "\n",
      "The top 10 recommended movies:\n",
      "\n",
      "Monty Python and the Holy Grail (1975)\n",
      "Star Wars: Episode VI - Return of the Jedi (1983)\n",
      "Rear Window (1954)\n",
      "Mary and Max (2009)\n",
      "There Will Be Blood (2007)\n",
      "Heidi Fleiss: Hollywood Madam (1995)\n",
      "The Blue Planet (2001)\n",
      "Scorpio (1973)\n",
      "Waiting for 'Superman' (2010)\n",
      "Victory (a.k.a. Escape to Victory) (1981)\n"
     ]
    }
   ],
   "source": [
    "print(f\"User {user_id} has seen {len(seen_movies)} movies\")\n",
    "print(\"Based on the top rated movies seen by the user:\\n\")\n",
    "for m in user_top_ten_seen_movies:\n",
    "    print(m)\n",
    "\n",
    "\n",
    "print(\"\\n\\nThe top 10 recommended movies:\\n\")\n",
    "for m in recommended_movies:\n",
    "    print(m)\n",
    "\n"
   ]
  },
  {
   "cell_type": "code",
   "execution_count": null,
   "metadata": {},
   "outputs": [],
   "source": []
  }
 ],
 "metadata": {
  "kernelspec": {
   "display_name": ".venv",
   "language": "python",
   "name": "python3"
  },
  "language_info": {
   "codemirror_mode": {
    "name": "ipython",
    "version": 3
   },
   "file_extension": ".py",
   "mimetype": "text/x-python",
   "name": "python",
   "nbconvert_exporter": "python",
   "pygments_lexer": "ipython3",
   "version": "3.10.14"
  }
 },
 "nbformat": 4,
 "nbformat_minor": 2
}
